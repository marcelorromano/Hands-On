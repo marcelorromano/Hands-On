{
 "cells": [
  {
   "cell_type": "markdown",
   "metadata": {},
   "source": [
    "# Clusterização"
   ]
  },
  {
   "cell_type": "markdown",
   "metadata": {
    "ExecuteTime": {
     "end_time": "2021-09-18T13:31:49.851240Z",
     "start_time": "2021-09-18T13:31:49.837248Z"
    },
    "heading_collapsed": true
   },
   "source": [
    "## Aplicações\n",
    "- Segmentação dos clientes\n",
    "- Redução de dimensionalidade -> novas variáveis: afinidade aos k clusters\n",
    "- Detecção de anomalia\n",
    "- Aprendizado semi-supervisionado (quando há poucos rótulos)\n",
    "- Mecanismos de pesquisa por similaridade\n",
    "- Segmentação de imagem (clusterizar os pixels de acordo com a cor e atribuir uma única cor -> identifica bordas)"
   ]
  },
  {
   "cell_type": "markdown",
   "metadata": {},
   "source": [
    "## Algoritmo K-Means\n",
    "- Inicializa aleatoriamente k centróides -> rotula os dados -> ajusta os centróides -> repete"
   ]
  },
  {
   "cell_type": "markdown",
   "metadata": {},
   "source": [
    "### Dataset"
   ]
  },
  {
   "cell_type": "code",
   "execution_count": 1,
   "metadata": {
    "ExecuteTime": {
     "end_time": "2021-09-23T18:07:26.970834Z",
     "start_time": "2021-09-23T18:07:23.468312Z"
    }
   },
   "outputs": [
    {
     "data": {
      "image/png": "[encoded data removed]",
      "text/plain": [
       "<Figure size 576x288 with 1 Axes>"
      ]
     },
     "metadata": {
      "needs_background": "light"
     },
     "output_type": "display_data"
    }
   ],
   "source": [
    "from sklearn.datasets import make_blobs\n",
    "import numpy as np\n",
    "import matplotlib.pyplot as plt\n",
    "\n",
    "blob_centers = np.array(\n",
    "    [[ 0.2,  2.3],\n",
    "     [-1.5 ,  2.3],\n",
    "     [-2.8,  1.8],\n",
    "     [-2.8,  2.8],\n",
    "     [-2.8,  1.3]])\n",
    "blob_std = np.array([0.4, 0.3, 0.1, 0.1, 0.1])\n",
    "X, y = make_blobs(n_samples=2000, centers=blob_centers,\n",
    "                  cluster_std=blob_std, random_state=7)\n",
    "\n",
    "def plot_clusters(X, y=None):\n",
    "    plt.scatter(X[:, 0], X[:, 1], c=y, s=1)\n",
    "    plt.xlabel(\"$x_1$\", fontsize=14)\n",
    "    plt.ylabel(\"$x_2$\", fontsize=14, rotation=0)\n",
    "    \n",
    "plt.figure(figsize=(8, 4))\n",
    "plot_clusters(X)\n",
    "plt.show()"
   ]
  },
  {
   "cell_type": "markdown",
   "metadata": {
    "heading_collapsed": true
   },
   "source": [
    "### Fit & Predict"
   ]
  },
  {
   "cell_type": "code",
   "execution_count": 18,
   "metadata": {
    "ExecuteTime": {
     "end_time": "2021-09-22T16:01:13.091849Z",
     "start_time": "2021-09-22T16:01:13.024888Z"
    },
    "hidden": true
   },
   "outputs": [
    {
     "name": "stdout",
     "output_type": "stream",
     "text": [
      "[3 2 2 3 1 2 3 3 0 4]\n",
      "[3 2 2 3 1 2 3 3 0 4]\n",
      "[[ 1.83208484  0.02324842]\n",
      " [-0.72098091  0.57642509]\n",
      " [ 0.98294772 -0.28893443]\n",
      " [ 0.16612587  0.01245744]\n",
      " [ 0.43342436  0.80438106]]\n"
     ]
    }
   ],
   "source": [
    "from sklearn.cluster import KMeans\n",
    "k = 5\n",
    "kmeans = KMeans(n_clusters=k)\n",
    "y_pred = kmeans.fit_predict(X)\n",
    "print(y_pred[:10])\n",
    "print(kmeans.labels_[:10]) # cópia dos labels dos dados de treinamento\n",
    "print(kmeans.cluster_centers_)"
   ]
  },
  {
   "cell_type": "markdown",
   "metadata": {
    "heading_collapsed": true
   },
   "source": [
    "### Fronteiras de decisão"
   ]
  },
  {
   "cell_type": "code",
   "execution_count": 19,
   "metadata": {
    "ExecuteTime": {
     "end_time": "2021-09-22T16:01:24.678709Z",
     "start_time": "2021-09-22T16:01:24.665718Z"
    },
    "hidden": true
   },
   "outputs": [],
   "source": [
    "# Nota: o algoritmo K-Means se comporta melhor quando não há muita disparidade nas variâncias das distribuições.\n",
    "kmeans.cluster_centers_\n",
    "\n",
    "def plot_data(X):\n",
    "    plt.plot(X[:, 0], X[:, 1], 'k.', markersize=2)\n",
    "\n",
    "def plot_centroids(centroids, weights=None, circle_color='w', cross_color='k'):\n",
    "    if weights is not None:\n",
    "        centroids = centroids[weights > weights.max() / 10]\n",
    "    plt.scatter(centroids[:, 0], centroids[:, 1],\n",
    "                marker='o', s=35, linewidths=8,\n",
    "                color=circle_color, zorder=10, alpha=0.9)\n",
    "    plt.scatter(centroids[:, 0], centroids[:, 1],\n",
    "                marker='x', s=2, linewidths=12,\n",
    "                color=cross_color, zorder=11, alpha=1)\n",
    "\n",
    "def plot_decision_boundaries(clusterer, X, resolution=1000, show_centroids=True,\n",
    "                             show_xlabels=True, show_ylabels=True):\n",
    "    mins = X.min(axis=0) - 0.1\n",
    "    maxs = X.max(axis=0) + 0.1\n",
    "    xx, yy = np.meshgrid(np.linspace(mins[0], maxs[0], resolution),\n",
    "                         np.linspace(mins[1], maxs[1], resolution))\n",
    "    Z = clusterer.predict(np.c_[xx.ravel(), yy.ravel()])\n",
    "    Z = Z.reshape(xx.shape)\n",
    "\n",
    "    plt.contourf(Z, extent=(mins[0], maxs[0], mins[1], maxs[1]),\n",
    "                cmap=\"Pastel2\")\n",
    "    plt.contour(Z, extent=(mins[0], maxs[0], mins[1], maxs[1]),\n",
    "                linewidths=1, colors='k')\n",
    "    plot_data(X)\n",
    "    if show_centroids:\n",
    "        plot_centroids(clusterer.cluster_centers_)\n",
    "\n",
    "    if show_xlabels:\n",
    "        plt.xlabel(\"$x_1$\", fontsize=14)\n",
    "    else:\n",
    "        plt.tick_params(labelbottom=False)\n",
    "    if show_ylabels:\n",
    "        plt.ylabel(\"$x_2$\", fontsize=14, rotation=0)\n",
    "    else:\n",
    "        plt.tick_params(labelleft=False)"
   ]
  },
  {
   "cell_type": "code",
   "execution_count": 5,
   "metadata": {
    "ExecuteTime": {
     "end_time": "2021-09-20T17:22:34.635060Z",
     "start_time": "2021-09-20T17:22:34.049535Z"
    },
    "hidden": true
   },
   "outputs": [
    {
     "data": {
      "image/png": "[encoded data removed]",
      "text/plain": [
       "<Figure size 576x288 with 1 Axes>"
      ]
     },
     "metadata": {
      "needs_background": "light"
     },
     "output_type": "display_data"
    }
   ],
   "source": [
    "plt.figure(figsize=(8, 4))\n",
    "plot_decision_boundaries(kmeans, X)\n",
    "plt.show()"
   ]
  },
  {
   "cell_type": "markdown",
   "metadata": {
    "heading_collapsed": true
   },
   "source": [
    "### Soft clustering\n",
    "- Distância para os centróides: pode ser usado para redução da dimensionalidade"
   ]
  },
  {
   "cell_type": "code",
   "execution_count": 6,
   "metadata": {
    "ExecuteTime": {
     "end_time": "2021-09-20T17:22:34.650241Z",
     "start_time": "2021-09-20T17:22:34.637075Z"
    },
    "hidden": true
   },
   "outputs": [
    {
     "name": "stdout",
     "output_type": "stream",
     "text": [
      "[[0.32995317 2.81093633 2.9042344  1.49439034 2.88633901]\n",
      " [2.80290755 5.80730058 5.84739223 4.4759332  5.84236351]\n",
      " [3.29399768 1.21475352 0.29040966 1.69136631 1.71086031]\n",
      " [3.21806371 0.72581411 0.36159148 1.54808703 1.21567622]]\n",
      "[0 0 2 2]\n"
     ]
    }
   ],
   "source": [
    "X_new = np.array([[0, 2], [3, 2], [-3, 3], [-3, 2.5]])\n",
    "print(kmeans.transform(X_new))\n",
    "print(kmeans.predict(X_new))"
   ]
  },
  {
   "cell_type": "markdown",
   "metadata": {
    "heading_collapsed": true
   },
   "source": [
    "### Métodos de inicialização do centróide\n",
    "- Pode-se inicializar manualmente através do argumento <span style='font-family: Monospace;'>init</span>\n",
    "- Entretanto, há um algoritmo adequado para isso que a biblioteca scikit-learn usa por padrão:\n",
    "<ol style='font-weight: bold;'>\n",
    "    <li><p style='font-weight: normal;'>Escolha o primeiro centro a partir de uma instância aleatória dos dados</p></li>\n",
    "    <li><p style='font-weight: normal;'>Para todo o conjunto de dados, calcule a distância <strong>D(x)</strong> entre os dados e seu respectivo centróide mais próximo</p></li>\n",
    "    <li><p style='font-weight: normal;'>Escolha um novo centróide a partir do conjunto de dados seguindo uma distribuição de probabilidade ponderada por <strong>D(x)<sup>2</sup></strong></p></li>\n",
    "    <li><p style='font-weight: normal;'>Repita os passos <strong>2</strong> e <strong>3</strong> até que k centróides tenham sido escolhidos</p></li>"
   ]
  },
  {
   "cell_type": "code",
   "execution_count": 7,
   "metadata": {
    "ExecuteTime": {
     "end_time": "2021-09-20T17:22:34.665856Z",
     "start_time": "2021-09-20T17:22:34.651865Z"
    },
    "hidden": true
   },
   "outputs": [
    {
     "data": {
      "text/plain": [
       "211.62337889822362"
      ]
     },
     "execution_count": 7,
     "metadata": {},
     "output_type": "execute_result"
    }
   ],
   "source": [
    "good_init = np.array([[-3, 3], [-3, 2], [-3, 1], [-1, 2], [0, 2]])\n",
    "kmeans = KMeans(n_clusters=5, init=good_init, n_init=1) # n_init é o número de iterações\n",
    "kmeans.fit(X)\n",
    "kmeans.inertia_ # somatória das distâncias ao quadrado aos centróides"
   ]
  },
  {
   "cell_type": "markdown",
   "metadata": {
    "heading_collapsed": true
   },
   "source": [
    "### K-Means Acelerado e mini-batch K-Means\n",
    "- O algoritmo padrão do K-Means é o proposto por Charles Elkan, 2013. Nele o algoritmo foi acelerado, explorando a desigualdade triangular, para evitar cálculos desnecessários de distâncias.\n",
    "- Já o mini-batch K-Means é interessante quando o número de clusters é elevado, pois ele é bem mais rápido que o algoritmo padrão conforme o número de clusters aumenta."
   ]
  },
  {
   "cell_type": "code",
   "execution_count": 8,
   "metadata": {
    "ExecuteTime": {
     "end_time": "2021-09-20T17:22:34.713459Z",
     "start_time": "2021-09-20T17:22:34.667856Z"
    },
    "hidden": true
   },
   "outputs": [
    {
     "data": {
      "text/plain": [
       "MiniBatchKMeans(n_clusters=5)"
      ]
     },
     "execution_count": 8,
     "metadata": {},
     "output_type": "execute_result"
    }
   ],
   "source": [
    "from sklearn.cluster import MiniBatchKMeans\n",
    "\n",
    "minibatch_kmeans = MiniBatchKMeans(n_clusters=5)\n",
    "minibatch_kmeans.fit(X)"
   ]
  },
  {
   "cell_type": "markdown",
   "metadata": {
    "heading_collapsed": true
   },
   "source": [
    "### Encontrando o número ótimo de clusters\n",
    "- A inércia sempre diminui conforme o número de clusters aumenta, então precisamos de outra métrica\n",
    "- Uma métrica melhor é o coeficiente de silhouette: varia entre -1 e 1: compara, para todas as instâncias, a distância média entre as amostras do próprio cluster (a) e as amostras do cluster vizinho mais próximo (b). A fórmula é (b-a)/max(a,b). "
   ]
  },
  {
   "cell_type": "code",
   "execution_count": 9,
   "metadata": {
    "ExecuteTime": {
     "end_time": "2021-09-20T17:22:34.825396Z",
     "start_time": "2021-09-20T17:22:34.716459Z"
    },
    "hidden": true
   },
   "outputs": [
    {
     "data": {
      "text/plain": [
       "0.655517642572828"
      ]
     },
     "execution_count": 9,
     "metadata": {},
     "output_type": "execute_result"
    }
   ],
   "source": [
    "from sklearn.metrics import silhouette_score\n",
    "silhouette_score(X, kmeans.labels_)"
   ]
  },
  {
   "cell_type": "code",
   "execution_count": 10,
   "metadata": {
    "ExecuteTime": {
     "end_time": "2021-09-20T17:22:36.529527Z",
     "start_time": "2021-09-20T17:22:34.827395Z"
    },
    "hidden": true
   },
   "outputs": [],
   "source": [
    "kmeans_per_k = [KMeans(n_clusters=k, random_state=42).fit(X)\n",
    "                for k in range(1, 10)]\n",
    "silhouette_scores = [silhouette_score(X, model.labels_)\n",
    "                     for model in kmeans_per_k[1:]]"
   ]
  },
  {
   "cell_type": "code",
   "execution_count": 11,
   "metadata": {
    "ExecuteTime": {
     "end_time": "2021-09-20T17:22:37.540418Z",
     "start_time": "2021-09-20T17:22:36.529527Z"
    },
    "hidden": true
   },
   "outputs": [
    {
     "data": {
      "image/png": "[encoded data removed]",
      "text/plain": [
       "<Figure size 792x648 with 4 Axes>"
      ]
     },
     "metadata": {
      "needs_background": "light"
     },
     "output_type": "display_data"
    }
   ],
   "source": [
    "from sklearn.metrics import silhouette_samples\n",
    "from matplotlib.ticker import FixedLocator, FixedFormatter\n",
    "import matplotlib as mpl\n",
    "\n",
    "plt.figure(figsize=(11, 9))\n",
    "\n",
    "for k in (3, 4, 5, 6):\n",
    "    plt.subplot(2, 2, k - 2)\n",
    "    \n",
    "    y_pred = kmeans_per_k[k - 1].labels_\n",
    "    silhouette_coefficients = silhouette_samples(X, y_pred)\n",
    "\n",
    "    padding = len(X) // 30\n",
    "    pos = padding\n",
    "    ticks = []\n",
    "    for i in range(k):\n",
    "        coeffs = silhouette_coefficients[y_pred == i]\n",
    "        coeffs.sort()\n",
    "\n",
    "        color = mpl.cm.Spectral(i / k)\n",
    "        plt.fill_betweenx(np.arange(pos, pos + len(coeffs)), 0, coeffs,\n",
    "                          facecolor=color, edgecolor=color, alpha=0.7)\n",
    "        ticks.append(pos + len(coeffs) // 2)\n",
    "        pos += len(coeffs) + padding\n",
    "\n",
    "    plt.gca().yaxis.set_major_locator(FixedLocator(ticks))\n",
    "    plt.gca().yaxis.set_major_formatter(FixedFormatter(range(k)))\n",
    "    if k in (3, 5):\n",
    "        plt.ylabel(\"Cluster\")\n",
    "    \n",
    "    if k in (5, 6):\n",
    "        plt.gca().set_xticks([-0.1, 0, 0.2, 0.4, 0.6, 0.8, 1])\n",
    "        plt.xlabel(\"Silhouette Coefficient\")\n",
    "    else:\n",
    "        plt.tick_params(labelbottom=False)\n",
    "\n",
    "    plt.axvline(x=silhouette_scores[k - 2], color=\"red\", linestyle=\"--\")\n",
    "    plt.title(\"$k={}$\".format(k), fontsize=16)\n",
    "\n",
    "plt.show()"
   ]
  },
  {
   "cell_type": "markdown",
   "metadata": {
    "hidden": true
   },
   "source": [
    "#### Comentários\n",
    "- Geralmente o cluster é ruim quando suas amostras estão abaixo do nível médio, o que é observado em k=3 e k=6\n",
    "- Com k=5 os clusters possuem o mesmo tamanho, apesar do coeficiente de silhouette ser ligeiramente menor do que para k=4."
   ]
  },
  {
   "cell_type": "markdown",
   "metadata": {},
   "source": [
    "### Limites do K-Means\n",
    "- É necessário executar múltiplas vezes e determinar o número de clusters a priori\n",
    "- K-Means não se comporta bem se os dados não foram escalados previamente e se não forem esféricos"
   ]
  },
  {
   "cell_type": "markdown",
   "metadata": {},
   "source": [
    "## Exemplos de Aplicações"
   ]
  },
  {
   "cell_type": "markdown",
   "metadata": {},
   "source": [
    "### Pré-processamento"
   ]
  },
  {
   "cell_type": "code",
   "execution_count": 9,
   "metadata": {
    "ExecuteTime": {
     "end_time": "2021-09-21T12:59:09.953257Z",
     "start_time": "2021-09-21T12:59:09.842025Z"
    }
   },
   "outputs": [],
   "source": [
    "from sklearn.datasets import load_digits\n",
    "\n",
    "X_digits, y_digits = load_digits(return_X_y=True)"
   ]
  },
  {
   "cell_type": "code",
   "execution_count": 10,
   "metadata": {
    "ExecuteTime": {
     "end_time": "2021-09-21T12:59:11.402909Z",
     "start_time": "2021-09-21T12:59:11.392915Z"
    }
   },
   "outputs": [],
   "source": [
    "from sklearn.model_selection import train_test_split\n",
    "\n",
    "X_train, X_test, y_train, y_test = train_test_split(X_digits, y_digits)"
   ]
  },
  {
   "cell_type": "code",
   "execution_count": 11,
   "metadata": {
    "ExecuteTime": {
     "end_time": "2021-09-21T12:59:14.672533Z",
     "start_time": "2021-09-21T12:59:13.049219Z"
    }
   },
   "outputs": [
    {
     "data": {
      "text/plain": [
       "0.9466666666666667"
      ]
     },
     "execution_count": 11,
     "metadata": {},
     "output_type": "execute_result"
    }
   ],
   "source": [
    "from sklearn.linear_model import LogisticRegression\n",
    "\n",
    "log_reg = LogisticRegression(multi_class=\"ovr\", solver=\"lbfgs\", max_iter=5000, random_state=42)\n",
    "log_reg.fit(X_train, y_train)\n",
    "log_reg.score(X_test, y_test)"
   ]
  },
  {
   "cell_type": "code",
   "execution_count": 12,
   "metadata": {
    "ExecuteTime": {
     "end_time": "2021-09-21T12:59:22.025497Z",
     "start_time": "2021-09-21T12:59:16.489148Z"
    }
   },
   "outputs": [
    {
     "data": {
      "text/plain": [
       "0.9777777777777777"
      ]
     },
     "execution_count": 12,
     "metadata": {},
     "output_type": "execute_result"
    }
   ],
   "source": [
    "from sklearn.pipeline import Pipeline\n",
    "\n",
    "pipeline = Pipeline([\n",
    "    ('kmeans', KMeans(n_clusters=50)), # cada dígito pode ser escrito de diferentes formas, por isso, melhor 50 que 10\n",
    "    ('log_reg', LogisticRegression(multi_class=\"ovr\", solver=\"lbfgs\", max_iter=5000, random_state=42))\n",
    "])\n",
    "pipeline.fit(X_train, y_train)\n",
    "pipeline.score(X_test, y_test)"
   ]
  },
  {
   "cell_type": "code",
   "execution_count": 16,
   "metadata": {
    "ExecuteTime": {
     "end_time": "2021-09-20T17:37:24.956574Z",
     "start_time": "2021-09-20T17:22:43.347348Z"
    }
   },
   "outputs": [
    {
     "name": "stdout",
     "output_type": "stream",
     "text": [
      "Fitting 3 folds for each of 98 candidates, totalling 294 fits\n",
      "[CV] kmeans__n_clusters=2 ............................................\n",
      "[CV] ............................. kmeans__n_clusters=2, total=   0.2s\n",
      "[CV] kmeans__n_clusters=2 ............................................\n"
     ]
    },
    {
     "name": "stderr",
     "output_type": "stream",
     "text": [
      "[Parallel(n_jobs=1)]: Using backend SequentialBackend with 1 concurrent workers.\n",
      "[Parallel(n_jobs=1)]: Done   1 out of   1 | elapsed:    0.1s remaining:    0.0s\n"
     ]
    },
    {
     "name": "stdout",
     "output_type": "stream",
     "text": [
      "[CV] ............................. kmeans__n_clusters=2, total=   0.2s\n",
      "[CV] kmeans__n_clusters=2 ............................................\n",
      "[CV] ............................. kmeans__n_clusters=2, total=   0.1s\n",
      "[CV] kmeans__n_clusters=3 ............................................\n",
      "[CV] ............................. kmeans__n_clusters=3, total=   0.2s\n",
      "[CV] kmeans__n_clusters=3 ............................................\n",
      "[CV] ............................. kmeans__n_clusters=3, total=   0.2s\n",
      "[CV] kmeans__n_clusters=3 ............................................\n",
      "[CV] ............................. kmeans__n_clusters=3, total=   0.2s\n",
      "[CV] kmeans__n_clusters=4 ............................................\n",
      "[CV] ............................. kmeans__n_clusters=4, total=   0.2s\n",
      "[CV] kmeans__n_clusters=4 ............................................\n",
      "[CV] ............................. kmeans__n_clusters=4, total=   0.2s\n",
      "[CV] kmeans__n_clusters=4 ............................................\n",
      "[CV] ............................. kmeans__n_clusters=4, total=   0.2s\n",
      "[CV] kmeans__n_clusters=5 ............................................\n",
      "[CV] ............................. kmeans__n_clusters=5, total=   0.3s\n",
      "[CV] kmeans__n_clusters=5 ............................................\n",
      "[CV] ............................. kmeans__n_clusters=5, total=   0.2s\n",
      "[CV] kmeans__n_clusters=5 ............................................\n",
      "[CV] ............................. kmeans__n_clusters=5, total=   0.2s\n",
      "[CV] kmeans__n_clusters=6 ............................................\n",
      "[CV] ............................. kmeans__n_clusters=6, total=   0.3s\n",
      "[CV] kmeans__n_clusters=6 ............................................\n",
      "[CV] ............................. kmeans__n_clusters=6, total=   0.3s\n",
      "[CV] kmeans__n_clusters=6 ............................................\n",
      "[CV] ............................. kmeans__n_clusters=6, total=   0.3s\n",
      "[CV] kmeans__n_clusters=7 ............................................\n",
      "[CV] ............................. kmeans__n_clusters=7, total=   0.4s\n",
      "[CV] kmeans__n_clusters=7 ............................................\n",
      "[CV] ............................. kmeans__n_clusters=7, total=   0.4s\n",
      "[CV] kmeans__n_clusters=7 ............................................\n",
      "[CV] ............................. kmeans__n_clusters=7, total=   0.4s\n",
      "[CV] kmeans__n_clusters=8 ............................................\n",
      "[CV] ............................. kmeans__n_clusters=8, total=   0.5s\n",
      "[CV] kmeans__n_clusters=8 ............................................\n",
      "[CV] ............................. kmeans__n_clusters=8, total=   0.4s\n",
      "[CV] kmeans__n_clusters=8 ............................................\n",
      "[CV] ............................. kmeans__n_clusters=8, total=   0.5s\n",
      "[CV] kmeans__n_clusters=9 ............................................\n",
      "[CV] ............................. kmeans__n_clusters=9, total=   0.7s\n",
      "[CV] kmeans__n_clusters=9 ............................................\n",
      "[CV] ............................. kmeans__n_clusters=9, total=   0.7s\n",
      "[CV] kmeans__n_clusters=9 ............................................\n",
      "[CV] ............................. kmeans__n_clusters=9, total=   0.7s\n",
      "[CV] kmeans__n_clusters=10 ...........................................\n",
      "[CV] ............................ kmeans__n_clusters=10, total=   1.2s\n",
      "[CV] kmeans__n_clusters=10 ...........................................\n",
      "[CV] ............................ kmeans__n_clusters=10, total=   1.3s\n",
      "[CV] kmeans__n_clusters=10 ...........................................\n",
      "[CV] ............................ kmeans__n_clusters=10, total=   1.3s\n",
      "[CV] kmeans__n_clusters=11 ...........................................\n",
      "[CV] ............................ kmeans__n_clusters=11, total=   1.2s\n",
      "[CV] kmeans__n_clusters=11 ...........................................\n",
      "[CV] ............................ kmeans__n_clusters=11, total=   1.5s\n",
      "[CV] kmeans__n_clusters=11 ...........................................\n",
      "[CV] ............................ kmeans__n_clusters=11, total=   1.5s\n",
      "[CV] kmeans__n_clusters=12 ...........................................\n",
      "[CV] ............................ kmeans__n_clusters=12, total=   1.3s\n",
      "[CV] kmeans__n_clusters=12 ...........................................\n",
      "[CV] ............................ kmeans__n_clusters=12, total=   1.3s\n",
      "[CV] kmeans__n_clusters=12 ...........................................\n",
      "[CV] ............................ kmeans__n_clusters=12, total=   1.2s\n",
      "[CV] kmeans__n_clusters=13 ...........................................\n",
      "[CV] ............................ kmeans__n_clusters=13, total=   1.2s\n",
      "[CV] kmeans__n_clusters=13 ...........................................\n",
      "[CV] ............................ kmeans__n_clusters=13, total=   1.3s\n",
      "[CV] kmeans__n_clusters=13 ...........................................\n",
      "[CV] ............................ kmeans__n_clusters=13, total=   1.3s\n",
      "[CV] kmeans__n_clusters=14 ...........................................\n",
      "[CV] ............................ kmeans__n_clusters=14, total=   1.5s\n",
      "[CV] kmeans__n_clusters=14 ...........................................\n",
      "[CV] ............................ kmeans__n_clusters=14, total=   1.5s\n",
      "[CV] kmeans__n_clusters=14 ...........................................\n",
      "[CV] ............................ kmeans__n_clusters=14, total=   1.5s\n",
      "[CV] kmeans__n_clusters=15 ...........................................\n",
      "[CV] ............................ kmeans__n_clusters=15, total=   1.6s\n",
      "[CV] kmeans__n_clusters=15 ...........................................\n",
      "[CV] ............................ kmeans__n_clusters=15, total=   1.7s\n",
      "[CV] kmeans__n_clusters=15 ...........................................\n",
      "[CV] ............................ kmeans__n_clusters=15, total=   1.8s\n",
      "[CV] kmeans__n_clusters=16 ...........................................\n",
      "[CV] ............................ kmeans__n_clusters=16, total=   1.8s\n",
      "[CV] kmeans__n_clusters=16 ...........................................\n",
      "[CV] ............................ kmeans__n_clusters=16, total=   1.7s\n",
      "[CV] kmeans__n_clusters=16 ...........................................\n",
      "[CV] ............................ kmeans__n_clusters=16, total=   1.8s\n",
      "[CV] kmeans__n_clusters=17 ...........................................\n",
      "[CV] ............................ kmeans__n_clusters=17, total=   1.9s\n",
      "[CV] kmeans__n_clusters=17 ...........................................\n",
      "[CV] ............................ kmeans__n_clusters=17, total=   2.4s\n",
      "[CV] kmeans__n_clusters=17 ...........................................\n",
      "[CV] ............................ kmeans__n_clusters=17, total=   2.2s\n",
      "[CV] kmeans__n_clusters=18 ...........................................\n",
      "[CV] ............................ kmeans__n_clusters=18, total=   2.0s\n",
      "[CV] kmeans__n_clusters=18 ...........................................\n",
      "[CV] ............................ kmeans__n_clusters=18, total=   2.0s\n",
      "[CV] kmeans__n_clusters=18 ...........................................\n",
      "[CV] ............................ kmeans__n_clusters=18, total=   2.2s\n",
      "[CV] kmeans__n_clusters=19 ...........................................\n",
      "[CV] ............................ kmeans__n_clusters=19, total=   2.0s\n",
      "[CV] kmeans__n_clusters=19 ...........................................\n",
      "[CV] ............................ kmeans__n_clusters=19, total=   2.2s\n",
      "[CV] kmeans__n_clusters=19 ...........................................\n",
      "[CV] ............................ kmeans__n_clusters=19, total=   2.0s\n",
      "[CV] kmeans__n_clusters=20 ...........................................\n",
      "[CV] ............................ kmeans__n_clusters=20, total=   2.6s\n",
      "[CV] kmeans__n_clusters=20 ...........................................\n",
      "[CV] ............................ kmeans__n_clusters=20, total=   2.5s\n",
      "[CV] kmeans__n_clusters=20 ...........................................\n",
      "[CV] ............................ kmeans__n_clusters=20, total=   2.3s\n",
      "[CV] kmeans__n_clusters=21 ...........................................\n",
      "[CV] ............................ kmeans__n_clusters=21, total=   2.6s\n",
      "[CV] kmeans__n_clusters=21 ...........................................\n",
      "[CV] ............................ kmeans__n_clusters=21, total=   2.7s\n",
      "[CV] kmeans__n_clusters=21 ...........................................\n"
     ]
    },
    {
     "name": "stdout",
     "output_type": "stream",
     "text": [
      "[CV] ............................ kmeans__n_clusters=21, total=   2.9s\n",
      "[CV] kmeans__n_clusters=22 ...........................................\n",
      "[CV] ............................ kmeans__n_clusters=22, total=   2.4s\n",
      "[CV] kmeans__n_clusters=22 ...........................................\n",
      "[CV] ............................ kmeans__n_clusters=22, total=   2.7s\n",
      "[CV] kmeans__n_clusters=22 ...........................................\n",
      "[CV] ............................ kmeans__n_clusters=22, total=   2.9s\n",
      "[CV] kmeans__n_clusters=23 ...........................................\n",
      "[CV] ............................ kmeans__n_clusters=23, total=   2.5s\n",
      "[CV] kmeans__n_clusters=23 ...........................................\n",
      "[CV] ............................ kmeans__n_clusters=23, total=   3.1s\n",
      "[CV] kmeans__n_clusters=23 ...........................................\n",
      "[CV] ............................ kmeans__n_clusters=23, total=   2.7s\n",
      "[CV] kmeans__n_clusters=24 ...........................................\n",
      "[CV] ............................ kmeans__n_clusters=24, total=   2.4s\n",
      "[CV] kmeans__n_clusters=24 ...........................................\n",
      "[CV] ............................ kmeans__n_clusters=24, total=   2.3s\n",
      "[CV] kmeans__n_clusters=24 ...........................................\n",
      "[CV] ............................ kmeans__n_clusters=24, total=   2.6s\n",
      "[CV] kmeans__n_clusters=25 ...........................................\n",
      "[CV] ............................ kmeans__n_clusters=25, total=   2.6s\n",
      "[CV] kmeans__n_clusters=25 ...........................................\n",
      "[CV] ............................ kmeans__n_clusters=25, total=   2.4s\n",
      "[CV] kmeans__n_clusters=25 ...........................................\n",
      "[CV] ............................ kmeans__n_clusters=25, total=   2.8s\n",
      "[CV] kmeans__n_clusters=26 ...........................................\n",
      "[CV] ............................ kmeans__n_clusters=26, total=   2.8s\n",
      "[CV] kmeans__n_clusters=26 ...........................................\n",
      "[CV] ............................ kmeans__n_clusters=26, total=   2.6s\n",
      "[CV] kmeans__n_clusters=26 ...........................................\n",
      "[CV] ............................ kmeans__n_clusters=26, total=   2.7s\n",
      "[CV] kmeans__n_clusters=27 ...........................................\n",
      "[CV] ............................ kmeans__n_clusters=27, total=   2.7s\n",
      "[CV] kmeans__n_clusters=27 ...........................................\n",
      "[CV] ............................ kmeans__n_clusters=27, total=   3.3s\n",
      "[CV] kmeans__n_clusters=27 ...........................................\n",
      "[CV] ............................ kmeans__n_clusters=27, total=   2.9s\n",
      "[CV] kmeans__n_clusters=28 ...........................................\n",
      "[CV] ............................ kmeans__n_clusters=28, total=   2.5s\n",
      "[CV] kmeans__n_clusters=28 ...........................................\n",
      "[CV] ............................ kmeans__n_clusters=28, total=   3.4s\n",
      "[CV] kmeans__n_clusters=28 ...........................................\n",
      "[CV] ............................ kmeans__n_clusters=28, total=   3.1s\n",
      "[CV] kmeans__n_clusters=29 ...........................................\n",
      "[CV] ............................ kmeans__n_clusters=29, total=   2.8s\n",
      "[CV] kmeans__n_clusters=29 ...........................................\n",
      "[CV] ............................ kmeans__n_clusters=29, total=   3.5s\n",
      "[CV] kmeans__n_clusters=29 ...........................................\n",
      "[CV] ............................ kmeans__n_clusters=29, total=   3.1s\n",
      "[CV] kmeans__n_clusters=30 ...........................................\n",
      "[CV] ............................ kmeans__n_clusters=30, total=   3.0s\n",
      "[CV] kmeans__n_clusters=30 ...........................................\n",
      "[CV] ............................ kmeans__n_clusters=30, total=   2.9s\n",
      "[CV] kmeans__n_clusters=30 ...........................................\n",
      "[CV] ............................ kmeans__n_clusters=30, total=   3.9s\n",
      "[CV] kmeans__n_clusters=31 ...........................................\n",
      "[CV] ............................ kmeans__n_clusters=31, total=   3.4s\n",
      "[CV] kmeans__n_clusters=31 ...........................................\n",
      "[CV] ............................ kmeans__n_clusters=31, total=   3.2s\n",
      "[CV] kmeans__n_clusters=31 ...........................................\n",
      "[CV] ............................ kmeans__n_clusters=31, total=   3.4s\n",
      "[CV] kmeans__n_clusters=32 ...........................................\n",
      "[CV] ............................ kmeans__n_clusters=32, total=   2.7s\n",
      "[CV] kmeans__n_clusters=32 ...........................................\n",
      "[CV] ............................ kmeans__n_clusters=32, total=   3.2s\n",
      "[CV] kmeans__n_clusters=32 ...........................................\n",
      "[CV] ............................ kmeans__n_clusters=32, total=   3.5s\n",
      "[CV] kmeans__n_clusters=33 ...........................................\n",
      "[CV] ............................ kmeans__n_clusters=33, total=   2.7s\n",
      "[CV] kmeans__n_clusters=33 ...........................................\n",
      "[CV] ............................ kmeans__n_clusters=33, total=   3.2s\n",
      "[CV] kmeans__n_clusters=33 ...........................................\n",
      "[CV] ............................ kmeans__n_clusters=33, total=   2.9s\n",
      "[CV] kmeans__n_clusters=34 ...........................................\n",
      "[CV] ............................ kmeans__n_clusters=34, total=   2.8s\n",
      "[CV] kmeans__n_clusters=34 ...........................................\n",
      "[CV] ............................ kmeans__n_clusters=34, total=   3.2s\n",
      "[CV] kmeans__n_clusters=34 ...........................................\n",
      "[CV] ............................ kmeans__n_clusters=34, total=   3.2s\n",
      "[CV] kmeans__n_clusters=35 ...........................................\n",
      "[CV] ............................ kmeans__n_clusters=35, total=   3.3s\n",
      "[CV] kmeans__n_clusters=35 ...........................................\n",
      "[CV] ............................ kmeans__n_clusters=35, total=   3.6s\n",
      "[CV] kmeans__n_clusters=35 ...........................................\n",
      "[CV] ............................ kmeans__n_clusters=35, total=   3.3s\n",
      "[CV] kmeans__n_clusters=36 ...........................................\n",
      "[CV] ............................ kmeans__n_clusters=36, total=   2.8s\n",
      "[CV] kmeans__n_clusters=36 ...........................................\n",
      "[CV] ............................ kmeans__n_clusters=36, total=   3.2s\n",
      "[CV] kmeans__n_clusters=36 ...........................................\n",
      "[CV] ............................ kmeans__n_clusters=36, total=   2.9s\n",
      "[CV] kmeans__n_clusters=37 ...........................................\n",
      "[CV] ............................ kmeans__n_clusters=37, total=   3.2s\n",
      "[CV] kmeans__n_clusters=37 ...........................................\n",
      "[CV] ............................ kmeans__n_clusters=37, total=   3.5s\n",
      "[CV] kmeans__n_clusters=37 ...........................................\n",
      "[CV] ............................ kmeans__n_clusters=37, total=   3.6s\n",
      "[CV] kmeans__n_clusters=38 ...........................................\n",
      "[CV] ............................ kmeans__n_clusters=38, total=   3.2s\n",
      "[CV] kmeans__n_clusters=38 ...........................................\n",
      "[CV] ............................ kmeans__n_clusters=38, total=   3.0s\n",
      "[CV] kmeans__n_clusters=38 ...........................................\n",
      "[CV] ............................ kmeans__n_clusters=38, total=   3.6s\n",
      "[CV] kmeans__n_clusters=39 ...........................................\n",
      "[CV] ............................ kmeans__n_clusters=39, total=   3.2s\n",
      "[CV] kmeans__n_clusters=39 ...........................................\n",
      "[CV] ............................ kmeans__n_clusters=39, total=   3.7s\n",
      "[CV] kmeans__n_clusters=39 ...........................................\n",
      "[CV] ............................ kmeans__n_clusters=39, total=   3.0s\n",
      "[CV] kmeans__n_clusters=40 ...........................................\n",
      "[CV] ............................ kmeans__n_clusters=40, total=   3.1s\n",
      "[CV] kmeans__n_clusters=40 ...........................................\n",
      "[CV] ............................ kmeans__n_clusters=40, total=   3.5s\n",
      "[CV] kmeans__n_clusters=40 ...........................................\n",
      "[CV] ............................ kmeans__n_clusters=40, total=   3.3s\n",
      "[CV] kmeans__n_clusters=41 ...........................................\n"
     ]
    },
    {
     "name": "stdout",
     "output_type": "stream",
     "text": [
      "[CV] ............................ kmeans__n_clusters=41, total=   3.2s\n",
      "[CV] kmeans__n_clusters=41 ...........................................\n",
      "[CV] ............................ kmeans__n_clusters=41, total=   3.2s\n",
      "[CV] kmeans__n_clusters=41 ...........................................\n",
      "[CV] ............................ kmeans__n_clusters=41, total=   3.2s\n",
      "[CV] kmeans__n_clusters=42 ...........................................\n",
      "[CV] ............................ kmeans__n_clusters=42, total=   2.7s\n",
      "[CV] kmeans__n_clusters=42 ...........................................\n",
      "[CV] ............................ kmeans__n_clusters=42, total=   3.3s\n",
      "[CV] kmeans__n_clusters=42 ...........................................\n",
      "[CV] ............................ kmeans__n_clusters=42, total=   3.6s\n",
      "[CV] kmeans__n_clusters=43 ...........................................\n",
      "[CV] ............................ kmeans__n_clusters=43, total=   3.0s\n",
      "[CV] kmeans__n_clusters=43 ...........................................\n",
      "[CV] ............................ kmeans__n_clusters=43, total=   3.4s\n",
      "[CV] kmeans__n_clusters=43 ...........................................\n",
      "[CV] ............................ kmeans__n_clusters=43, total=   3.6s\n",
      "[CV] kmeans__n_clusters=44 ...........................................\n",
      "[CV] ............................ kmeans__n_clusters=44, total=   2.9s\n",
      "[CV] kmeans__n_clusters=44 ...........................................\n",
      "[CV] ............................ kmeans__n_clusters=44, total=   4.0s\n",
      "[CV] kmeans__n_clusters=44 ...........................................\n",
      "[CV] ............................ kmeans__n_clusters=44, total=   4.1s\n",
      "[CV] kmeans__n_clusters=45 ...........................................\n",
      "[CV] ............................ kmeans__n_clusters=45, total=   2.8s\n",
      "[CV] kmeans__n_clusters=45 ...........................................\n",
      "[CV] ............................ kmeans__n_clusters=45, total=   3.3s\n",
      "[CV] kmeans__n_clusters=45 ...........................................\n",
      "[CV] ............................ kmeans__n_clusters=45, total=   3.4s\n",
      "[CV] kmeans__n_clusters=46 ...........................................\n",
      "[CV] ............................ kmeans__n_clusters=46, total=   3.2s\n",
      "[CV] kmeans__n_clusters=46 ...........................................\n",
      "[CV] ............................ kmeans__n_clusters=46, total=   3.2s\n",
      "[CV] kmeans__n_clusters=46 ...........................................\n",
      "[CV] ............................ kmeans__n_clusters=46, total=   3.5s\n",
      "[CV] kmeans__n_clusters=47 ...........................................\n",
      "[CV] ............................ kmeans__n_clusters=47, total=   2.4s\n",
      "[CV] kmeans__n_clusters=47 ...........................................\n",
      "[CV] ............................ kmeans__n_clusters=47, total=   3.5s\n",
      "[CV] kmeans__n_clusters=47 ...........................................\n",
      "[CV] ............................ kmeans__n_clusters=47, total=   4.0s\n",
      "[CV] kmeans__n_clusters=48 ...........................................\n",
      "[CV] ............................ kmeans__n_clusters=48, total=   3.1s\n",
      "[CV] kmeans__n_clusters=48 ...........................................\n",
      "[CV] ............................ kmeans__n_clusters=48, total=   3.9s\n",
      "[CV] kmeans__n_clusters=48 ...........................................\n",
      "[CV] ............................ kmeans__n_clusters=48, total=   3.8s\n",
      "[CV] kmeans__n_clusters=49 ...........................................\n",
      "[CV] ............................ kmeans__n_clusters=49, total=   3.0s\n",
      "[CV] kmeans__n_clusters=49 ...........................................\n",
      "[CV] ............................ kmeans__n_clusters=49, total=   4.8s\n",
      "[CV] kmeans__n_clusters=49 ...........................................\n",
      "[CV] ............................ kmeans__n_clusters=49, total=   3.8s\n",
      "[CV] kmeans__n_clusters=50 ...........................................\n",
      "[CV] ............................ kmeans__n_clusters=50, total=   3.4s\n",
      "[CV] kmeans__n_clusters=50 ...........................................\n",
      "[CV] ............................ kmeans__n_clusters=50, total=   3.4s\n",
      "[CV] kmeans__n_clusters=50 ...........................................\n",
      "[CV] ............................ kmeans__n_clusters=50, total=   3.9s\n",
      "[CV] kmeans__n_clusters=51 ...........................................\n",
      "[CV] ............................ kmeans__n_clusters=51, total=   3.3s\n",
      "[CV] kmeans__n_clusters=51 ...........................................\n",
      "[CV] ............................ kmeans__n_clusters=51, total=   3.5s\n",
      "[CV] kmeans__n_clusters=51 ...........................................\n",
      "[CV] ............................ kmeans__n_clusters=51, total=   3.6s\n",
      "[CV] kmeans__n_clusters=52 ...........................................\n",
      "[CV] ............................ kmeans__n_clusters=52, total=   3.1s\n",
      "[CV] kmeans__n_clusters=52 ...........................................\n",
      "[CV] ............................ kmeans__n_clusters=52, total=   4.0s\n",
      "[CV] kmeans__n_clusters=52 ...........................................\n",
      "[CV] ............................ kmeans__n_clusters=52, total=   4.0s\n",
      "[CV] kmeans__n_clusters=53 ...........................................\n",
      "[CV] ............................ kmeans__n_clusters=53, total=   3.0s\n",
      "[CV] kmeans__n_clusters=53 ...........................................\n",
      "[CV] ............................ kmeans__n_clusters=53, total=   3.4s\n",
      "[CV] kmeans__n_clusters=53 ...........................................\n",
      "[CV] ............................ kmeans__n_clusters=53, total=   3.9s\n",
      "[CV] kmeans__n_clusters=54 ...........................................\n",
      "[CV] ............................ kmeans__n_clusters=54, total=   3.6s\n",
      "[CV] kmeans__n_clusters=54 ...........................................\n",
      "[CV] ............................ kmeans__n_clusters=54, total=   3.6s\n",
      "[CV] kmeans__n_clusters=54 ...........................................\n",
      "[CV] ............................ kmeans__n_clusters=54, total=   4.4s\n",
      "[CV] kmeans__n_clusters=55 ...........................................\n",
      "[CV] ............................ kmeans__n_clusters=55, total=   3.4s\n",
      "[CV] kmeans__n_clusters=55 ...........................................\n",
      "[CV] ............................ kmeans__n_clusters=55, total=   4.1s\n",
      "[CV] kmeans__n_clusters=55 ...........................................\n",
      "[CV] ............................ kmeans__n_clusters=55, total=   4.0s\n",
      "[CV] kmeans__n_clusters=56 ...........................................\n",
      "[CV] ............................ kmeans__n_clusters=56, total=   2.8s\n",
      "[CV] kmeans__n_clusters=56 ...........................................\n",
      "[CV] ............................ kmeans__n_clusters=56, total=   3.4s\n",
      "[CV] kmeans__n_clusters=56 ...........................................\n",
      "[CV] ............................ kmeans__n_clusters=56, total=   3.2s\n",
      "[CV] kmeans__n_clusters=57 ...........................................\n",
      "[CV] ............................ kmeans__n_clusters=57, total=   3.4s\n",
      "[CV] kmeans__n_clusters=57 ...........................................\n",
      "[CV] ............................ kmeans__n_clusters=57, total=   3.2s\n",
      "[CV] kmeans__n_clusters=57 ...........................................\n",
      "[CV] ............................ kmeans__n_clusters=57, total=   3.7s\n",
      "[CV] kmeans__n_clusters=58 ...........................................\n",
      "[CV] ............................ kmeans__n_clusters=58, total=   3.2s\n",
      "[CV] kmeans__n_clusters=58 ...........................................\n",
      "[CV] ............................ kmeans__n_clusters=58, total=   3.6s\n",
      "[CV] kmeans__n_clusters=58 ...........................................\n",
      "[CV] ............................ kmeans__n_clusters=58, total=   4.0s\n",
      "[CV] kmeans__n_clusters=59 ...........................................\n",
      "[CV] ............................ kmeans__n_clusters=59, total=   2.8s\n",
      "[CV] kmeans__n_clusters=59 ...........................................\n",
      "[CV] ............................ kmeans__n_clusters=59, total=   3.8s\n",
      "[CV] kmeans__n_clusters=59 ...........................................\n",
      "[CV] ............................ kmeans__n_clusters=59, total=   3.8s\n",
      "[CV] kmeans__n_clusters=60 ...........................................\n",
      "[CV] ............................ kmeans__n_clusters=60, total=   3.4s\n",
      "[CV] kmeans__n_clusters=60 ...........................................\n"
     ]
    },
    {
     "name": "stdout",
     "output_type": "stream",
     "text": [
      "[CV] ............................ kmeans__n_clusters=60, total=   3.5s\n",
      "[CV] kmeans__n_clusters=60 ...........................................\n",
      "[CV] ............................ kmeans__n_clusters=60, total=   3.3s\n",
      "[CV] kmeans__n_clusters=61 ...........................................\n",
      "[CV] ............................ kmeans__n_clusters=61, total=   3.9s\n",
      "[CV] kmeans__n_clusters=61 ...........................................\n",
      "[CV] ............................ kmeans__n_clusters=61, total=   3.4s\n",
      "[CV] kmeans__n_clusters=61 ...........................................\n",
      "[CV] ............................ kmeans__n_clusters=61, total=   3.3s\n",
      "[CV] kmeans__n_clusters=62 ...........................................\n",
      "[CV] ............................ kmeans__n_clusters=62, total=   2.8s\n",
      "[CV] kmeans__n_clusters=62 ...........................................\n",
      "[CV] ............................ kmeans__n_clusters=62, total=   3.6s\n",
      "[CV] kmeans__n_clusters=62 ...........................................\n",
      "[CV] ............................ kmeans__n_clusters=62, total=   3.9s\n",
      "[CV] kmeans__n_clusters=63 ...........................................\n",
      "[CV] ............................ kmeans__n_clusters=63, total=   2.5s\n",
      "[CV] kmeans__n_clusters=63 ...........................................\n",
      "[CV] ............................ kmeans__n_clusters=63, total=   4.3s\n",
      "[CV] kmeans__n_clusters=63 ...........................................\n",
      "[CV] ............................ kmeans__n_clusters=63, total=   3.3s\n",
      "[CV] kmeans__n_clusters=64 ...........................................\n",
      "[CV] ............................ kmeans__n_clusters=64, total=   3.2s\n",
      "[CV] kmeans__n_clusters=64 ...........................................\n",
      "[CV] ............................ kmeans__n_clusters=64, total=   3.3s\n",
      "[CV] kmeans__n_clusters=64 ...........................................\n",
      "[CV] ............................ kmeans__n_clusters=64, total=   4.0s\n",
      "[CV] kmeans__n_clusters=65 ...........................................\n",
      "[CV] ............................ kmeans__n_clusters=65, total=   3.0s\n",
      "[CV] kmeans__n_clusters=65 ...........................................\n",
      "[CV] ............................ kmeans__n_clusters=65, total=   3.7s\n",
      "[CV] kmeans__n_clusters=65 ...........................................\n",
      "[CV] ............................ kmeans__n_clusters=65, total=   3.5s\n",
      "[CV] kmeans__n_clusters=66 ...........................................\n",
      "[CV] ............................ kmeans__n_clusters=66, total=   2.7s\n",
      "[CV] kmeans__n_clusters=66 ...........................................\n",
      "[CV] ............................ kmeans__n_clusters=66, total=   3.5s\n",
      "[CV] kmeans__n_clusters=66 ...........................................\n",
      "[CV] ............................ kmeans__n_clusters=66, total=   3.7s\n",
      "[CV] kmeans__n_clusters=67 ...........................................\n",
      "[CV] ............................ kmeans__n_clusters=67, total=   2.9s\n",
      "[CV] kmeans__n_clusters=67 ...........................................\n",
      "[CV] ............................ kmeans__n_clusters=67, total=   3.8s\n",
      "[CV] kmeans__n_clusters=67 ...........................................\n",
      "[CV] ............................ kmeans__n_clusters=67, total=   3.5s\n",
      "[CV] kmeans__n_clusters=68 ...........................................\n",
      "[CV] ............................ kmeans__n_clusters=68, total=   2.6s\n",
      "[CV] kmeans__n_clusters=68 ...........................................\n",
      "[CV] ............................ kmeans__n_clusters=68, total=   4.0s\n",
      "[CV] kmeans__n_clusters=68 ...........................................\n",
      "[CV] ............................ kmeans__n_clusters=68, total=   3.8s\n",
      "[CV] kmeans__n_clusters=69 ...........................................\n",
      "[CV] ............................ kmeans__n_clusters=69, total=   3.4s\n",
      "[CV] kmeans__n_clusters=69 ...........................................\n",
      "[CV] ............................ kmeans__n_clusters=69, total=   3.9s\n",
      "[CV] kmeans__n_clusters=69 ...........................................\n",
      "[CV] ............................ kmeans__n_clusters=69, total=   3.6s\n",
      "[CV] kmeans__n_clusters=70 ...........................................\n",
      "[CV] ............................ kmeans__n_clusters=70, total=   3.0s\n",
      "[CV] kmeans__n_clusters=70 ...........................................\n",
      "[CV] ............................ kmeans__n_clusters=70, total=   3.5s\n",
      "[CV] kmeans__n_clusters=70 ...........................................\n",
      "[CV] ............................ kmeans__n_clusters=70, total=   4.0s\n",
      "[CV] kmeans__n_clusters=71 ...........................................\n",
      "[CV] ............................ kmeans__n_clusters=71, total=   3.0s\n",
      "[CV] kmeans__n_clusters=71 ...........................................\n",
      "[CV] ............................ kmeans__n_clusters=71, total=   3.3s\n",
      "[CV] kmeans__n_clusters=71 ...........................................\n",
      "[CV] ............................ kmeans__n_clusters=71, total=   3.8s\n",
      "[CV] kmeans__n_clusters=72 ...........................................\n",
      "[CV] ............................ kmeans__n_clusters=72, total=   3.0s\n",
      "[CV] kmeans__n_clusters=72 ...........................................\n",
      "[CV] ............................ kmeans__n_clusters=72, total=   3.7s\n",
      "[CV] kmeans__n_clusters=72 ...........................................\n",
      "[CV] ............................ kmeans__n_clusters=72, total=   4.0s\n",
      "[CV] kmeans__n_clusters=73 ...........................................\n",
      "[CV] ............................ kmeans__n_clusters=73, total=   3.0s\n",
      "[CV] kmeans__n_clusters=73 ...........................................\n",
      "[CV] ............................ kmeans__n_clusters=73, total=   3.2s\n",
      "[CV] kmeans__n_clusters=73 ...........................................\n",
      "[CV] ............................ kmeans__n_clusters=73, total=   3.9s\n",
      "[CV] kmeans__n_clusters=74 ...........................................\n",
      "[CV] ............................ kmeans__n_clusters=74, total=   3.2s\n",
      "[CV] kmeans__n_clusters=74 ...........................................\n",
      "[CV] ............................ kmeans__n_clusters=74, total=   3.9s\n",
      "[CV] kmeans__n_clusters=74 ...........................................\n",
      "[CV] ............................ kmeans__n_clusters=74, total=   3.7s\n",
      "[CV] kmeans__n_clusters=75 ...........................................\n",
      "[CV] ............................ kmeans__n_clusters=75, total=   3.4s\n",
      "[CV] kmeans__n_clusters=75 ...........................................\n",
      "[CV] ............................ kmeans__n_clusters=75, total=   4.0s\n",
      "[CV] kmeans__n_clusters=75 ...........................................\n",
      "[CV] ............................ kmeans__n_clusters=75, total=   4.3s\n",
      "[CV] kmeans__n_clusters=76 ...........................................\n",
      "[CV] ............................ kmeans__n_clusters=76, total=   3.4s\n",
      "[CV] kmeans__n_clusters=76 ...........................................\n",
      "[CV] ............................ kmeans__n_clusters=76, total=   4.5s\n",
      "[CV] kmeans__n_clusters=76 ...........................................\n",
      "[CV] ............................ kmeans__n_clusters=76, total=   3.9s\n",
      "[CV] kmeans__n_clusters=77 ...........................................\n",
      "[CV] ............................ kmeans__n_clusters=77, total=   3.4s\n",
      "[CV] kmeans__n_clusters=77 ...........................................\n",
      "[CV] ............................ kmeans__n_clusters=77, total=   4.2s\n",
      "[CV] kmeans__n_clusters=77 ...........................................\n",
      "[CV] ............................ kmeans__n_clusters=77, total=   4.7s\n",
      "[CV] kmeans__n_clusters=78 ...........................................\n",
      "[CV] ............................ kmeans__n_clusters=78, total=   3.7s\n",
      "[CV] kmeans__n_clusters=78 ...........................................\n",
      "[CV] ............................ kmeans__n_clusters=78, total=   3.3s\n",
      "[CV] kmeans__n_clusters=78 ...........................................\n",
      "[CV] ............................ kmeans__n_clusters=78, total=   3.9s\n",
      "[CV] kmeans__n_clusters=79 ...........................................\n",
      "[CV] ............................ kmeans__n_clusters=79, total=   2.8s\n",
      "[CV] kmeans__n_clusters=79 ...........................................\n",
      "[CV] ............................ kmeans__n_clusters=79, total=   3.4s\n",
      "[CV] kmeans__n_clusters=79 ...........................................\n"
     ]
    },
    {
     "name": "stdout",
     "output_type": "stream",
     "text": [
      "[CV] ............................ kmeans__n_clusters=79, total=   4.6s\n",
      "[CV] kmeans__n_clusters=80 ...........................................\n",
      "[CV] ............................ kmeans__n_clusters=80, total=   3.3s\n",
      "[CV] kmeans__n_clusters=80 ...........................................\n",
      "[CV] ............................ kmeans__n_clusters=80, total=   4.3s\n",
      "[CV] kmeans__n_clusters=80 ...........................................\n",
      "[CV] ............................ kmeans__n_clusters=80, total=   4.0s\n",
      "[CV] kmeans__n_clusters=81 ...........................................\n",
      "[CV] ............................ kmeans__n_clusters=81, total=   4.2s\n",
      "[CV] kmeans__n_clusters=81 ...........................................\n",
      "[CV] ............................ kmeans__n_clusters=81, total=   4.9s\n",
      "[CV] kmeans__n_clusters=81 ...........................................\n",
      "[CV] ............................ kmeans__n_clusters=81, total=   5.3s\n",
      "[CV] kmeans__n_clusters=82 ...........................................\n",
      "[CV] ............................ kmeans__n_clusters=82, total=   3.1s\n",
      "[CV] kmeans__n_clusters=82 ...........................................\n",
      "[CV] ............................ kmeans__n_clusters=82, total=   4.1s\n",
      "[CV] kmeans__n_clusters=82 ...........................................\n",
      "[CV] ............................ kmeans__n_clusters=82, total=   4.7s\n",
      "[CV] kmeans__n_clusters=83 ...........................................\n",
      "[CV] ............................ kmeans__n_clusters=83, total=   3.0s\n",
      "[CV] kmeans__n_clusters=83 ...........................................\n",
      "[CV] ............................ kmeans__n_clusters=83, total=   3.7s\n",
      "[CV] kmeans__n_clusters=83 ...........................................\n",
      "[CV] ............................ kmeans__n_clusters=83, total=   4.1s\n",
      "[CV] kmeans__n_clusters=84 ...........................................\n",
      "[CV] ............................ kmeans__n_clusters=84, total=   3.4s\n",
      "[CV] kmeans__n_clusters=84 ...........................................\n",
      "[CV] ............................ kmeans__n_clusters=84, total=   3.6s\n",
      "[CV] kmeans__n_clusters=84 ...........................................\n",
      "[CV] ............................ kmeans__n_clusters=84, total=   5.1s\n",
      "[CV] kmeans__n_clusters=85 ...........................................\n",
      "[CV] ............................ kmeans__n_clusters=85, total=   3.2s\n",
      "[CV] kmeans__n_clusters=85 ...........................................\n",
      "[CV] ............................ kmeans__n_clusters=85, total=   3.3s\n",
      "[CV] kmeans__n_clusters=85 ...........................................\n",
      "[CV] ............................ kmeans__n_clusters=85, total=   4.2s\n",
      "[CV] kmeans__n_clusters=86 ...........................................\n",
      "[CV] ............................ kmeans__n_clusters=86, total=   3.2s\n",
      "[CV] kmeans__n_clusters=86 ...........................................\n",
      "[CV] ............................ kmeans__n_clusters=86, total=   3.8s\n",
      "[CV] kmeans__n_clusters=86 ...........................................\n",
      "[CV] ............................ kmeans__n_clusters=86, total=   3.9s\n",
      "[CV] kmeans__n_clusters=87 ...........................................\n",
      "[CV] ............................ kmeans__n_clusters=87, total=   3.2s\n",
      "[CV] kmeans__n_clusters=87 ...........................................\n",
      "[CV] ............................ kmeans__n_clusters=87, total=   3.1s\n",
      "[CV] kmeans__n_clusters=87 ...........................................\n",
      "[CV] ............................ kmeans__n_clusters=87, total=   3.9s\n",
      "[CV] kmeans__n_clusters=88 ...........................................\n",
      "[CV] ............................ kmeans__n_clusters=88, total=   2.9s\n",
      "[CV] kmeans__n_clusters=88 ...........................................\n",
      "[CV] ............................ kmeans__n_clusters=88, total=   3.2s\n",
      "[CV] kmeans__n_clusters=88 ...........................................\n",
      "[CV] ............................ kmeans__n_clusters=88, total=   4.0s\n",
      "[CV] kmeans__n_clusters=89 ...........................................\n",
      "[CV] ............................ kmeans__n_clusters=89, total=   2.8s\n",
      "[CV] kmeans__n_clusters=89 ...........................................\n",
      "[CV] ............................ kmeans__n_clusters=89, total=   3.3s\n",
      "[CV] kmeans__n_clusters=89 ...........................................\n",
      "[CV] ............................ kmeans__n_clusters=89, total=   3.9s\n",
      "[CV] kmeans__n_clusters=90 ...........................................\n",
      "[CV] ............................ kmeans__n_clusters=90, total=   2.7s\n",
      "[CV] kmeans__n_clusters=90 ...........................................\n",
      "[CV] ............................ kmeans__n_clusters=90, total=   4.0s\n",
      "[CV] kmeans__n_clusters=90 ...........................................\n",
      "[CV] ............................ kmeans__n_clusters=90, total=   3.3s\n",
      "[CV] kmeans__n_clusters=91 ...........................................\n",
      "[CV] ............................ kmeans__n_clusters=91, total=   2.9s\n",
      "[CV] kmeans__n_clusters=91 ...........................................\n",
      "[CV] ............................ kmeans__n_clusters=91, total=   3.6s\n",
      "[CV] kmeans__n_clusters=91 ...........................................\n",
      "[CV] ............................ kmeans__n_clusters=91, total=   4.2s\n",
      "[CV] kmeans__n_clusters=92 ...........................................\n",
      "[CV] ............................ kmeans__n_clusters=92, total=   3.0s\n",
      "[CV] kmeans__n_clusters=92 ...........................................\n",
      "[CV] ............................ kmeans__n_clusters=92, total=   3.3s\n",
      "[CV] kmeans__n_clusters=92 ...........................................\n",
      "[CV] ............................ kmeans__n_clusters=92, total=   3.4s\n",
      "[CV] kmeans__n_clusters=93 ...........................................\n",
      "[CV] ............................ kmeans__n_clusters=93, total=   3.2s\n",
      "[CV] kmeans__n_clusters=93 ...........................................\n",
      "[CV] ............................ kmeans__n_clusters=93, total=   4.2s\n",
      "[CV] kmeans__n_clusters=93 ...........................................\n",
      "[CV] ............................ kmeans__n_clusters=93, total=   4.3s\n",
      "[CV] kmeans__n_clusters=94 ...........................................\n",
      "[CV] ............................ kmeans__n_clusters=94, total=   2.9s\n",
      "[CV] kmeans__n_clusters=94 ...........................................\n",
      "[CV] ............................ kmeans__n_clusters=94, total=   3.8s\n",
      "[CV] kmeans__n_clusters=94 ...........................................\n",
      "[CV] ............................ kmeans__n_clusters=94, total=   3.9s\n",
      "[CV] kmeans__n_clusters=95 ...........................................\n",
      "[CV] ............................ kmeans__n_clusters=95, total=   2.8s\n",
      "[CV] kmeans__n_clusters=95 ...........................................\n",
      "[CV] ............................ kmeans__n_clusters=95, total=   3.1s\n",
      "[CV] kmeans__n_clusters=95 ...........................................\n",
      "[CV] ............................ kmeans__n_clusters=95, total=   3.9s\n",
      "[CV] kmeans__n_clusters=96 ...........................................\n",
      "[CV] ............................ kmeans__n_clusters=96, total=   3.5s\n",
      "[CV] kmeans__n_clusters=96 ...........................................\n",
      "[CV] ............................ kmeans__n_clusters=96, total=   3.6s\n",
      "[CV] kmeans__n_clusters=96 ...........................................\n",
      "[CV] ............................ kmeans__n_clusters=96, total=   4.2s\n",
      "[CV] kmeans__n_clusters=97 ...........................................\n",
      "[CV] ............................ kmeans__n_clusters=97, total=   3.1s\n",
      "[CV] kmeans__n_clusters=97 ...........................................\n",
      "[CV] ............................ kmeans__n_clusters=97, total=   3.4s\n",
      "[CV] kmeans__n_clusters=97 ...........................................\n",
      "[CV] ............................ kmeans__n_clusters=97, total=   5.0s\n",
      "[CV] kmeans__n_clusters=98 ...........................................\n",
      "[CV] ............................ kmeans__n_clusters=98, total=   3.0s\n",
      "[CV] kmeans__n_clusters=98 ...........................................\n",
      "[CV] ............................ kmeans__n_clusters=98, total=   3.2s\n",
      "[CV] kmeans__n_clusters=98 ...........................................\n",
      "[CV] ............................ kmeans__n_clusters=98, total=   3.9s\n",
      "[CV] kmeans__n_clusters=99 ...........................................\n"
     ]
    },
    {
     "name": "stdout",
     "output_type": "stream",
     "text": [
      "[CV] ............................ kmeans__n_clusters=99, total=   3.3s\n",
      "[CV] kmeans__n_clusters=99 ...........................................\n",
      "[CV] ............................ kmeans__n_clusters=99, total=   3.5s\n",
      "[CV] kmeans__n_clusters=99 ...........................................\n",
      "[CV] ............................ kmeans__n_clusters=99, total=   3.9s\n"
     ]
    },
    {
     "name": "stderr",
     "output_type": "stream",
     "text": [
      "[Parallel(n_jobs=1)]: Done 294 out of 294 | elapsed: 14.6min finished\n"
     ]
    },
    {
     "data": {
      "text/plain": [
       "GridSearchCV(cv=3,\n",
       "             estimator=Pipeline(steps=[('kmeans', KMeans(n_clusters=50)),\n",
       "                                       ('log_reg',\n",
       "                                        LogisticRegression(max_iter=5000,\n",
       "                                                           multi_class='ovr',\n",
       "                                                           random_state=42))]),\n",
       "             param_grid={'kmeans__n_clusters': range(2, 100)}, verbose=2)"
      ]
     },
     "execution_count": 16,
     "metadata": {},
     "output_type": "execute_result"
    }
   ],
   "source": [
    "from sklearn.model_selection import GridSearchCV\n",
    "\n",
    "param_grid = dict(kmeans__n_clusters=range(2,100))\n",
    "grid_clf = GridSearchCV(pipeline, param_grid, cv=3, verbose=2)\n",
    "grid_clf.fit(X_train, y_train)"
   ]
  },
  {
   "cell_type": "code",
   "execution_count": 17,
   "metadata": {
    "ExecuteTime": {
     "end_time": "2021-09-20T17:37:24.971969Z",
     "start_time": "2021-09-20T17:37:24.958977Z"
    }
   },
   "outputs": [
    {
     "name": "stdout",
     "output_type": "stream",
     "text": [
      "{'kmeans__n_clusters': 47}\n",
      "0.9733333333333334\n"
     ]
    }
   ],
   "source": [
    "print(grid_clf.best_params_)\n",
    "print(grid_clf.score(X_test, y_test))"
   ]
  },
  {
   "cell_type": "markdown",
   "metadata": {
    "ExecuteTime": {
     "end_time": "2021-09-21T11:59:02.537853Z",
     "start_time": "2021-09-21T11:58:58.604983Z"
    }
   },
   "source": [
    "### Aprendizado Semi-Supervisionado"
   ]
  },
  {
   "cell_type": "code",
   "execution_count": 52,
   "metadata": {
    "ExecuteTime": {
     "end_time": "2021-09-21T13:49:01.972417Z",
     "start_time": "2021-09-21T13:49:01.795285Z"
    }
   },
   "outputs": [
    {
     "data": {
      "text/plain": [
       "0.8355555555555556"
      ]
     },
     "execution_count": 52,
     "metadata": {},
     "output_type": "execute_result"
    }
   ],
   "source": [
    "n_labeled = 50\n",
    "log_reg = LogisticRegression(multi_class=\"ovr\", solver=\"lbfgs\", max_iter=5000, random_state=42)\n",
    "log_reg.fit(X_train[:n_labeled], y_train[:n_labeled])\n",
    "log_reg.score(X_test,y_test)"
   ]
  },
  {
   "cell_type": "code",
   "execution_count": 60,
   "metadata": {
    "ExecuteTime": {
     "end_time": "2021-09-21T13:54:33.675454Z",
     "start_time": "2021-09-21T13:54:31.697593Z"
    }
   },
   "outputs": [],
   "source": [
    "k = 50\n",
    "kmeans = KMeans(n_clusters=k, random_state=42, n_init=50)\n",
    "X_digits_dist = kmeans.fit_transform(X_train)\n",
    "repres_digit_idx = np.argmin(X_digits_dist, axis=0)\n",
    "X_repres_digits = X_train[repres_digit_idx]\n"
   ]
  },
  {
   "cell_type": "code",
   "execution_count": 61,
   "metadata": {
    "ExecuteTime": {
     "end_time": "2021-09-21T13:54:36.556813Z",
     "start_time": "2021-09-21T13:54:35.121059Z"
    }
   },
   "outputs": [
    {
     "data": {
      "image/png": "[encoded data removed]",
      "text/plain": [
       "<Figure size 576x144 with 50 Axes>"
      ]
     },
     "metadata": {
      "needs_background": "light"
     },
     "output_type": "display_data"
    }
   ],
   "source": [
    "import matplotlib.pyplot as plt\n",
    "plt.figure(figsize=(8, 2))\n",
    "for index, X_repres_digit in enumerate(X_repres_digits):\n",
    "    plt.subplot(k // 10, 10, index + 1)\n",
    "    plt.imshow(X_repres_digit.reshape(8, 8), cmap=\"binary\", interpolation=\"bilinear\")\n",
    "    plt.axis('off')\n",
    "\n",
    "plt.show()"
   ]
  },
  {
   "cell_type": "code",
   "execution_count": 62,
   "metadata": {
    "ExecuteTime": {
     "end_time": "2021-09-21T13:55:34.219781Z",
     "start_time": "2021-09-21T13:55:34.037886Z"
    }
   },
   "outputs": [
    {
     "data": {
      "text/plain": [
       "0.9133333333333333"
      ]
     },
     "execution_count": 62,
     "metadata": {},
     "output_type": "execute_result"
    }
   ],
   "source": [
    "y_repres_digits = np.array([\n",
    "    4, 2, 9, 6, 0, 8, 5, 4, 9, 7,\n",
    "    6, 8, 3, 8, 5, 7, 1, 5, 1, 2,\n",
    "    4, 3, 9, 2, 2, 0, 4, 7, 3, 6,\n",
    "    5, 7, 1, 2, 1, 1, 4, 9, 0, 8,\n",
    "    6, 8, 3, 7, 2, 4, 5, 3, 7, 6])\n",
    "log_reg = LogisticRegression(multi_class=\"ovr\", solver=\"lbfgs\", max_iter=5000, random_state=42)\n",
    "log_reg.fit(X_repres_digits, y_repres_digits)\n",
    "log_reg.score(X_test, y_test)"
   ]
  },
  {
   "cell_type": "code",
   "execution_count": 63,
   "metadata": {
    "ExecuteTime": {
     "end_time": "2021-09-21T13:55:39.974783Z",
     "start_time": "2021-09-21T13:55:38.776884Z"
    }
   },
   "outputs": [
    {
     "data": {
      "text/plain": [
       "0.9155555555555556"
      ]
     },
     "execution_count": 63,
     "metadata": {},
     "output_type": "execute_result"
    }
   ],
   "source": [
    "# E se propargamos para todas as instâncias do mesmo cluster?\n",
    "y_train_prop = np.empty(len(X_train), dtype=np.int32)\n",
    "for i in range(k):\n",
    "    y_train_prop[kmeans.labels_ == i] = y_repres_digits[i]\n",
    "log_reg = LogisticRegression(multi_class=\"ovr\", solver=\"lbfgs\", max_iter=5000, random_state=42)\n",
    "log_reg.fit(X_train, y_train_prop)\n",
    "log_reg.score(X_test, y_test)"
   ]
  },
  {
   "cell_type": "code",
   "execution_count": 64,
   "metadata": {
    "ExecuteTime": {
     "end_time": "2021-09-21T13:55:47.758403Z",
     "start_time": "2021-09-21T13:55:46.993857Z"
    }
   },
   "outputs": [
    {
     "data": {
      "text/plain": [
       "0.92"
      ]
     },
     "execution_count": 64,
     "metadata": {},
     "output_type": "execute_result"
    }
   ],
   "source": [
    "# Talvez seja melhor pegar apenas as instâncias mais próximas ao centróide\n",
    "percentile_closest = 75\n",
    "\n",
    "X_cluster_dist = X_digits_dist[np.arange(len(X_train)), kmeans.labels_]\n",
    "for i in range(k):\n",
    "    in_cluster = (kmeans.labels_ == i)\n",
    "    cluster_dist = X_cluster_dist[in_cluster]\n",
    "    cutoff_dist = np.percentile(cluster_dist, percentile_closest)\n",
    "    above_cutoff = (X_cluster_dist > cutoff_dist)\n",
    "    X_cluster_dist[in_cluster & above_cutoff] = -1\n",
    "    \n",
    "partially_prop = (X_cluster_dist != -1)\n",
    "X_train_part_prop = X_train[partially_prop]\n",
    "y_train_part_prop = y_train_prop[partially_prop]\n",
    "\n",
    "log_reg = LogisticRegression(multi_class=\"ovr\", solver=\"lbfgs\", max_iter=5000, random_state=42)\n",
    "log_reg.fit(X_train_part_prop, y_train_part_prop)\n",
    "\n",
    "log_reg.score(X_test, y_test)"
   ]
  },
  {
   "cell_type": "markdown",
   "metadata": {},
   "source": [
    "#### Comentários - Aprendizado ativo\n",
    "- Poderia se fazer um aprendizado ativo, onde as instâncias nas quais o modelo ficou mais em dúvida são rotuladas por um especialista e usadas no treinamento."
   ]
  },
  {
   "cell_type": "markdown",
   "metadata": {},
   "source": [
    "## Algoritmo DBSCAN\n",
    "- Dois hiperparâmetros: &epsilon; e <span style = 'font-family: Monospace;'>min_samples</span>\n",
    "- Se há <span style = 'font-family: Monospace;'>min_samples</span> instâncias numa vizinhança &epsilon;, então essas instâncias serão instâncias <span style = 'font-style: italic'>core</span>\n",
    "- Todas as instâncias vizinhas a instâncias <span style = 'font-style: italic'>core</span> pertencem ao mesmo cluster. As que não pertencem a cluster nenhum são anomalias\n",
    "- A desvantagem é que pode ter dificuldade para capturar clusters que possuem densidades diferentes"
   ]
  },
  {
   "cell_type": "code",
   "execution_count": 21,
   "metadata": {
    "ExecuteTime": {
     "end_time": "2021-09-22T16:02:07.624913Z",
     "start_time": "2021-09-22T16:02:07.600928Z"
    }
   },
   "outputs": [
    {
     "data": {
      "text/plain": [
       "array([ 0,  2, -1, -1,  1,  0,  0,  0,  2,  5], dtype=int64)"
      ]
     },
     "execution_count": 21,
     "metadata": {},
     "output_type": "execute_result"
    }
   ],
   "source": [
    "from sklearn.cluster import DBSCAN\n",
    "from sklearn.datasets import make_moons\n",
    "\n",
    "X, y = make_moons(n_samples=1000, noise=0.05, random_state=42)\n",
    "dbscan = DBSCAN(eps=0.05, min_samples=5)\n",
    "dbscan.fit(X)\n",
    "dbscan.labels_[:10] # -1 é anomalia"
   ]
  },
  {
   "cell_type": "code",
   "execution_count": 22,
   "metadata": {
    "ExecuteTime": {
     "end_time": "2021-09-22T16:02:10.077593Z",
     "start_time": "2021-09-22T16:02:10.069598Z"
    }
   },
   "outputs": [
    {
     "name": "stdout",
     "output_type": "stream",
     "text": [
      "808\n"
     ]
    },
    {
     "data": {
      "text/plain": [
       "array([[-0.02137124,  0.40618608],\n",
       "       [-0.84192557,  0.53058695],\n",
       "       [ 0.58930337, -0.32137599],\n",
       "       ...,\n",
       "       [ 1.66258462, -0.3079193 ],\n",
       "       [-0.94355873,  0.3278936 ],\n",
       "       [ 0.79419406,  0.60777171]])"
      ]
     },
     "execution_count": 22,
     "metadata": {},
     "output_type": "execute_result"
    }
   ],
   "source": [
    "print(len(dbscan.core_sample_indices_)) # número de amostras que fazem parte de um core\n",
    "dbscan.components_ # instâncias core"
   ]
  },
  {
   "cell_type": "code",
   "execution_count": 24,
   "metadata": {
    "ExecuteTime": {
     "end_time": "2021-09-22T16:02:18.976612Z",
     "start_time": "2021-09-22T16:02:18.965618Z"
    }
   },
   "outputs": [
    {
     "data": {
      "text/plain": [
       "array([-1,  0,  1,  2,  3,  4,  5,  6], dtype=int64)"
      ]
     },
     "execution_count": 24,
     "metadata": {},
     "output_type": "execute_result"
    }
   ],
   "source": [
    "import numpy as np\n",
    "np.unique(dbscan.labels_)"
   ]
  },
  {
   "cell_type": "code",
   "execution_count": 25,
   "metadata": {
    "ExecuteTime": {
     "end_time": "2021-09-22T16:02:20.642583Z",
     "start_time": "2021-09-22T16:02:20.617583Z"
    }
   },
   "outputs": [
    {
     "data": {
      "text/plain": [
       "DBSCAN(eps=0.2)"
      ]
     },
     "execution_count": 25,
     "metadata": {},
     "output_type": "execute_result"
    }
   ],
   "source": [
    "dbscan2 = DBSCAN(eps=0.2)\n",
    "dbscan2.fit(X)"
   ]
  },
  {
   "cell_type": "code",
   "execution_count": 26,
   "metadata": {
    "ExecuteTime": {
     "end_time": "2021-09-22T16:02:22.243579Z",
     "start_time": "2021-09-22T16:02:22.232590Z"
    }
   },
   "outputs": [],
   "source": [
    "def plot_dbscan(dbscan, X, size, show_xlabels=True, show_ylabels=True):\n",
    "    core_mask = np.zeros_like(dbscan.labels_, dtype=bool)\n",
    "    core_mask[dbscan.core_sample_indices_] = True\n",
    "    anomalies_mask = dbscan.labels_ == -1\n",
    "    non_core_mask = ~(core_mask | anomalies_mask)\n",
    "\n",
    "    cores = dbscan.components_\n",
    "    anomalies = X[anomalies_mask]\n",
    "    non_cores = X[non_core_mask]\n",
    "    \n",
    "    plt.scatter(cores[:, 0], cores[:, 1],\n",
    "                c=dbscan.labels_[core_mask], marker='o', s=size, cmap=\"Paired\")\n",
    "    plt.scatter(cores[:, 0], cores[:, 1], marker='*', s=20, c=dbscan.labels_[core_mask])\n",
    "    plt.scatter(anomalies[:, 0], anomalies[:, 1],\n",
    "                c=\"r\", marker=\"x\", s=100)\n",
    "    plt.scatter(non_cores[:, 0], non_cores[:, 1], c=dbscan.labels_[non_core_mask], marker=\".\")\n",
    "    if show_xlabels:\n",
    "        plt.xlabel(\"$x_1$\", fontsize=14)\n",
    "    else:\n",
    "        plt.tick_params(labelbottom=False)\n",
    "    if show_ylabels:\n",
    "        plt.ylabel(\"$x_2$\", fontsize=14, rotation=0)\n",
    "    else:\n",
    "        plt.tick_params(labelleft=False)\n",
    "    plt.title(\"eps={:.2f}, min_samples={}\".format(dbscan.eps, dbscan.min_samples), fontsize=14)"
   ]
  },
  {
   "cell_type": "code",
   "execution_count": 27,
   "metadata": {
    "ExecuteTime": {
     "end_time": "2021-09-22T16:02:27.394659Z",
     "start_time": "2021-09-22T16:02:26.952608Z"
    }
   },
   "outputs": [
    {
     "data": {
      "image/png": "[encoded data removed]",
      "text/plain": [
       "<Figure size 648x230.4 with 2 Axes>"
      ]
     },
     "metadata": {
      "needs_background": "light"
     },
     "output_type": "display_data"
    }
   ],
   "source": [
    "import matplotlib.pyplot as plt\n",
    "plt.figure(figsize=(9, 3.2))\n",
    "\n",
    "plt.subplot(121)\n",
    "plot_dbscan(dbscan, X, size=100)\n",
    "\n",
    "plt.subplot(122)\n",
    "plot_dbscan(dbscan2, X, size=600, show_ylabels=False)\n",
    "\n",
    "plt.show()"
   ]
  },
  {
   "cell_type": "code",
   "execution_count": 31,
   "metadata": {
    "ExecuteTime": {
     "end_time": "2021-09-22T16:04:11.294437Z",
     "start_time": "2021-09-22T16:04:11.285442Z"
    }
   },
   "outputs": [
    {
     "data": {
      "text/plain": [
       "KNeighborsClassifier(n_neighbors=50)"
      ]
     },
     "execution_count": 31,
     "metadata": {},
     "output_type": "execute_result"
    }
   ],
   "source": [
    "# DBSCAN não tem um método predict\n",
    "from sklearn.neighbors import KNeighborsClassifier\n",
    "\n",
    "knn = KNeighborsClassifier(n_neighbors=50)\n",
    "knn.fit(dbscan2.components_, dbscan2.labels_[dbscan2.core_sample_indices_])"
   ]
  },
  {
   "cell_type": "code",
   "execution_count": 32,
   "metadata": {
    "ExecuteTime": {
     "end_time": "2021-09-22T16:04:49.357506Z",
     "start_time": "2021-09-22T16:04:13.161180Z"
    }
   },
   "outputs": [
    {
     "name": "stdout",
     "output_type": "stream",
     "text": [
      "[1 0 1 0]\n"
     ]
    },
    {
     "data": {
      "image/png": "[encoded data removed]",
      "text/plain": [
       "<Figure size 432x216 with 1 Axes>"
      ]
     },
     "metadata": {
      "needs_background": "light"
     },
     "output_type": "display_data"
    }
   ],
   "source": [
    "X_new = np.array([[-0.5, 0], [0, 0.5], [1, -0.1], [2, 1]])\n",
    "print(knn.predict(X_new))\n",
    "\n",
    "plt.figure(figsize=(6, 3))\n",
    "plot_decision_boundaries(knn, X, show_centroids=False)\n",
    "plt.scatter(X_new[:, 0], X_new[:, 1], c=\"b\", marker=\"+\", s=200, zorder=10)\n",
    "plt.show()"
   ]
  },
  {
   "cell_type": "code",
   "execution_count": 38,
   "metadata": {
    "ExecuteTime": {
     "end_time": "2021-09-22T18:32:32.708513Z",
     "start_time": "2021-09-22T18:32:32.688526Z"
    }
   },
   "outputs": [
    {
     "data": {
      "text/plain": [
       "array([-1,  0,  1, -1], dtype=int64)"
      ]
     },
     "execution_count": 38,
     "metadata": {},
     "output_type": "execute_result"
    }
   ],
   "source": [
    "# O código abaixo faz o tratamento para amostras que seriam anomalias\n",
    "y_dist, y_pred_idx = knn.kneighbors(X_new, n_neighbors=1)\n",
    "y_pred = dbscan2.labels_[dbscan2.core_sample_indices_][y_pred_idx]\n",
    "y_pred[y_dist > 0.2] = -1\n",
    "y_pred.ravel()"
   ]
  },
  {
   "cell_type": "markdown",
   "metadata": {},
   "source": [
    "# Mistura de Gaussianas\n",
    "- Assim como no K-Means, inicializa os parâmetros aleatoriamente, atribui as instâncias a cada cluster e, feito isso, faz o ajuste das médias, covariâncias e pesos\n",
    "- A diferença é que a atribuição é <span style='font-style:italic;'>soft</span> e não <span style='font-style:italic;'>hard</span>\n",
    "- O hiperparâmetro <span style='font-family:monospace;'>covariance_type</span> pode ajudar a encontrar a solução para <span style='font-style:italic;'>datasets</span> mais complicados:\n",
    "<ol>\n",
    "    <li style='font-weight:bold;'><span style='font-family:monospace;'>spherical</span>: <span style='font-weight:normal'>todos os clusters devem ser esféricos</span></li>\n",
    "    <li style='font-weight:bold;'><span style='font-family:monospace;'>diag</span>: <span style='font-weight:normal'>matriz de covariância deve ser diagonal (paralelo aos eixos)</span></li>\n",
    "    <li style='font-weight:bold;'><span style='font-family:monospace;'>tied</span>: <span style='font-weight:normal'>todos os clusters têm a mesma matriz de covariância</span></li>\n",
    "</ol>\n",
    "<p></p>\n",
    "- <span style='font-family:monospace;'>spherical</span> e <span style='font-family:monospace;'>diag</span> são O(<span style='font-style:italic'>kmn</span>) e <span style='font-family:monospace;'>tied</span> e <span style='font-family:monospace;'>full</span> são O(<span style='font-style:italic'>kmn<sup>2</sup>+kn<sup>3</sup></span>)"
   ]
  },
  {
   "cell_type": "code",
   "execution_count": 9,
   "metadata": {
    "ExecuteTime": {
     "end_time": "2021-09-23T18:12:56.267473Z",
     "start_time": "2021-09-23T18:12:55.997800Z"
    }
   },
   "outputs": [
    {
     "data": {
      "image/png": "[encoded data removed]",
      "text/plain": [
       "<Figure size 432x288 with 1 Axes>"
      ]
     },
     "metadata": {
      "needs_background": "light"
     },
     "output_type": "display_data"
    }
   ],
   "source": [
    "X1, y1 = make_blobs(n_samples=1000, centers=((4, -4), (0, 0)), random_state=42)\n",
    "X1 = X1.dot(np.array([[0.374, 0.95], [0.732, 0.598]]))\n",
    "X2, y2 = make_blobs(n_samples=250, centers=1, random_state=42)\n",
    "X2 = X2 + [6, -8]\n",
    "X = np.r_[X1, X2]\n",
    "y = np.r_[y1, y2]\n",
    "plot_clusters(X)"
   ]
  },
  {
   "cell_type": "code",
   "execution_count": 11,
   "metadata": {
    "ExecuteTime": {
     "end_time": "2021-09-23T18:14:59.785692Z",
     "start_time": "2021-09-23T18:14:59.253254Z"
    }
   },
   "outputs": [
    {
     "data": {
      "text/plain": [
       "array([0.39054348, 0.2093669 , 0.40008962])"
      ]
     },
     "execution_count": 11,
     "metadata": {},
     "output_type": "execute_result"
    }
   ],
   "source": [
    "from sklearn.mixture import GaussianMixture\n",
    "\n",
    "gm = GaussianMixture(n_components=3, n_init=10, random_state=42)\n",
    "gm.fit(X)\n",
    "gm.weights_"
   ]
  },
  {
   "cell_type": "code",
   "execution_count": 12,
   "metadata": {
    "ExecuteTime": {
     "end_time": "2021-09-23T18:15:11.588599Z",
     "start_time": "2021-09-23T18:15:11.577593Z"
    }
   },
   "outputs": [
    {
     "data": {
      "text/plain": [
       "array([[ 0.05224874,  0.07631976],\n",
       "       [ 3.40196611,  1.05838748],\n",
       "       [-1.40754214,  1.42716873]])"
      ]
     },
     "execution_count": 12,
     "metadata": {},
     "output_type": "execute_result"
    }
   ],
   "source": [
    "gm.means_"
   ]
  },
  {
   "cell_type": "code",
   "execution_count": 13,
   "metadata": {
    "ExecuteTime": {
     "end_time": "2021-09-23T18:15:55.571034Z",
     "start_time": "2021-09-23T18:15:55.558041Z"
    }
   },
   "outputs": [
    {
     "data": {
      "text/plain": [
       "array([[[ 0.6890309 ,  0.79717058],\n",
       "        [ 0.79717058,  1.21367348]],\n",
       "\n",
       "       [[ 1.14296668, -0.03114176],\n",
       "        [-0.03114176,  0.9545003 ]],\n",
       "\n",
       "       [[ 0.63496849,  0.7298512 ],\n",
       "        [ 0.7298512 ,  1.16112807]]])"
      ]
     },
     "execution_count": 13,
     "metadata": {},
     "output_type": "execute_result"
    }
   ],
   "source": [
    "gm.covariances_"
   ]
  },
  {
   "cell_type": "code",
   "execution_count": 15,
   "metadata": {
    "ExecuteTime": {
     "end_time": "2021-09-23T18:32:55.148653Z",
     "start_time": "2021-09-23T18:32:55.128651Z"
    }
   },
   "outputs": [
    {
     "name": "stdout",
     "output_type": "stream",
     "text": [
      "[0 0 2 ... 1 1 1]\n",
      "[[9.77227791e-01 2.27715290e-02 6.79898914e-07]\n",
      " [9.83288385e-01 1.60345103e-02 6.77104389e-04]\n",
      " [7.51824662e-05 1.90251273e-06 9.99922915e-01]\n",
      " ...\n",
      " [4.35053542e-07 9.99999565e-01 2.17938894e-26]\n",
      " [5.27837047e-16 1.00000000e+00 1.50679490e-41]\n",
      " [2.32355608e-15 1.00000000e+00 8.21915701e-41]]\n"
     ]
    }
   ],
   "source": [
    "print(gm.predict(X))\n",
    "print(gm.predict_proba(X))"
   ]
  },
  {
   "cell_type": "code",
   "execution_count": 16,
   "metadata": {
    "ExecuteTime": {
     "end_time": "2021-09-23T18:33:47.198059Z",
     "start_time": "2021-09-23T18:33:47.165064Z"
    }
   },
   "outputs": [
    {
     "name": "stdout",
     "output_type": "stream",
     "text": [
      "[[-0.8690223  -0.32680051]\n",
      " [ 0.29945755  0.2841852 ]\n",
      " [ 1.85027284  2.06556913]\n",
      " [ 3.98260019  1.50041446]\n",
      " [ 3.82006355  0.53143606]\n",
      " [-1.04015332  0.7864941 ]] [0 0 1 1 1 2]\n"
     ]
    }
   ],
   "source": [
    "X_new, y_new = gm.sample(6) # É possível gerar novos dados\n",
    "print(X_new, y_new)"
   ]
  },
  {
   "cell_type": "code",
   "execution_count": 17,
   "metadata": {
    "ExecuteTime": {
     "end_time": "2021-09-23T18:37:58.099231Z",
     "start_time": "2021-09-23T18:37:58.087235Z"
    }
   },
   "outputs": [
    {
     "data": {
      "text/plain": [
       "array([-2.60674489, -3.57074133, -3.33007348, ..., -3.51379355,\n",
       "       -4.39643283, -3.8055665 ])"
      ]
     },
     "execution_count": 17,
     "metadata": {},
     "output_type": "execute_result"
    }
   ],
   "source": [
    "gm.score_samples(X) # log da PDF: quanto maior, mais denso"
   ]
  },
  {
   "cell_type": "markdown",
   "metadata": {},
   "source": [
    "## Detecção de anomalia\n",
    "- É útil na detecção de fraude ou na remoção de <span style='font-style:italic;'>outliers</span> antes do treinamento de um modelo"
   ]
  },
  {
   "cell_type": "code",
   "execution_count": 22,
   "metadata": {
    "ExecuteTime": {
     "end_time": "2021-09-24T12:46:05.614755Z",
     "start_time": "2021-09-24T12:46:05.594767Z"
    }
   },
   "outputs": [
    {
     "data": {
      "text/plain": [
       "0.04"
      ]
     },
     "execution_count": 22,
     "metadata": {},
     "output_type": "execute_result"
    }
   ],
   "source": [
    "densities = gm.score_samples(X)\n",
    "density_threshold = np.percentile(densities, 4)\n",
    "anomalies = X[densities < density_threshold]\n",
    "len(anomalies)/len(X)"
   ]
  },
  {
   "cell_type": "markdown",
   "metadata": {},
   "source": [
    "## Selecionando o Número de Clusters\n",
    "- Com a mistura de gaussianas, a inércia ou o coeficiente de silhouette podem não funcionar bem, pelo fato das distribuições não serem esféricas ou terem diferentes tamanhos.\n",
    "- Com isso, métricas mais adequadas são os critérios teóricos de informação, como o Baysiano (BIC) e o de Akaike (AIC).\n",
    "- Os dois penalizam o número de parâmetros do modelo e recompensam a verossimilhança. O BIC tende a ser mais simples e o AIC tende a generalizar melhor para <span style='font-style:italic;'>datasets</span> maiores"
   ]
  },
  {
   "cell_type": "code",
   "execution_count": 24,
   "metadata": {
    "ExecuteTime": {
     "end_time": "2021-09-24T13:38:05.710145Z",
     "start_time": "2021-09-24T13:38:05.682406Z"
    }
   },
   "outputs": [
    {
     "name": "stdout",
     "output_type": "stream",
     "text": [
      "8189.662685850679\n",
      "8102.437405735641\n"
     ]
    }
   ],
   "source": [
    "print(gm.bic(X))\n",
    "print(gm.aic(X))"
   ]
  },
  {
   "cell_type": "code",
   "execution_count": 25,
   "metadata": {
    "ExecuteTime": {
     "end_time": "2021-09-24T13:41:05.531259Z",
     "start_time": "2021-09-24T13:41:02.210536Z"
    }
   },
   "outputs": [
    {
     "data": {
      "image/png": "[encoded data removed]",
      "text/plain": [
       "<Figure size 576x216 with 1 Axes>"
      ]
     },
     "metadata": {
      "needs_background": "light"
     },
     "output_type": "display_data"
    }
   ],
   "source": [
    "gms_per_k = [GaussianMixture(n_components=k, n_init=10, random_state=42).fit(X)\n",
    "             for k in range(1, 11)]\n",
    "bics = [model.bic(X) for model in gms_per_k]\n",
    "aics = [model.aic(X) for model in gms_per_k]\n",
    "\n",
    "\n",
    "plt.figure(figsize=(8, 3))\n",
    "plt.plot(range(1, 11), bics, \"bo-\", label=\"BIC\")\n",
    "plt.plot(range(1, 11), aics, \"go--\", label=\"AIC\")\n",
    "plt.xlabel(\"$k$\", fontsize=14)\n",
    "plt.ylabel(\"Information Criterion\", fontsize=14)\n",
    "plt.axis([1, 9.5, np.min(aics) - 50, np.max(aics) + 50])\n",
    "plt.annotate('Minimum',\n",
    "             xy=(3, bics[2]),\n",
    "             xytext=(0.35, 0.6),\n",
    "             textcoords='figure fraction',\n",
    "             fontsize=14,\n",
    "             arrowprops=dict(facecolor='black', shrink=0.1)\n",
    "            )\n",
    "plt.legend()\n",
    "plt.show()"
   ]
  },
  {
   "cell_type": "markdown",
   "metadata": {},
   "source": [
    "## Mistura Baysiana de Gaussianas\n",
    "- Ela é capaz de fornecer pesos iguais ou próximos de zero para clusters desnecessários\n",
    "- Todos os parâmetros do modelo são tratados como variáveis aleatórias latentes p(z): a partir de distribuições selecionadas se estima p(z|X)."
   ]
  },
  {
   "cell_type": "code",
   "execution_count": 26,
   "metadata": {
    "ExecuteTime": {
     "end_time": "2021-09-24T14:25:31.138297Z",
     "start_time": "2021-09-24T14:25:28.084572Z"
    }
   },
   "outputs": [
    {
     "name": "stderr",
     "output_type": "stream",
     "text": [
      "C:\\Users\\Romano\\anaconda3\\lib\\site-packages\\sklearn\\mixture\\_base.py:265: ConvergenceWarning: Initialization 10 did not converge. Try different init parameters, or increase max_iter, tol or check for degenerate data.\n",
      "  warnings.warn('Initialization %d did not converge. '\n"
     ]
    },
    {
     "data": {
      "text/plain": [
       "array([0.4 , 0.  , 0.  , 0.  , 0.39, 0.2 , 0.  , 0.  , 0.  , 0.  ])"
      ]
     },
     "execution_count": 26,
     "metadata": {},
     "output_type": "execute_result"
    }
   ],
   "source": [
    "from sklearn.mixture import BayesianGaussianMixture\n",
    "bgm = BayesianGaussianMixture(n_components=10, n_init=10, random_state=42)\n",
    "bgm.fit(X)\n",
    "np.round(bgm.weights_, 2)"
   ]
  },
  {
   "cell_type": "code",
   "execution_count": null,
   "metadata": {},
   "outputs": [],
   "source": []
  }
 ],
 "metadata": {
  "kernelspec": {
   "display_name": "Python 3",
   "language": "python",
   "name": "python3"
  },
  "language_info": {
   "codemirror_mode": {
    "name": "ipython",
    "version": 3
   },
   "file_extension": ".py",
   "mimetype": "text/x-python",
   "name": "python",
   "nbconvert_exporter": "python",
   "pygments_lexer": "ipython3",
   "version": "3.8.5"
  }
 },
 "nbformat": 4,
 "nbformat_minor": 4
}
